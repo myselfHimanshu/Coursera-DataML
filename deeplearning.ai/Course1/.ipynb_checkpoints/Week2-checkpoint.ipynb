{
 "cells": [
  {
   "cell_type": "markdown",
   "metadata": {},
   "source": [
    "## Logistic Regression with a Neural Network Mindset\n",
    "Build a logistic regression classifier to recognize cats."
   ]
  },
  {
   "cell_type": "markdown",
   "metadata": {},
   "source": [
    "### 1. Packages"
   ]
  },
  {
   "cell_type": "code",
   "execution_count": 1,
   "metadata": {},
   "outputs": [],
   "source": [
    "import warnings\n",
    "warnings.filterwarnings('ignore')\n",
    "import numpy as np\n",
    "import matplotlib.pyplot as plt\n",
    "import h5py\n",
    "import scipy\n",
    "from PIL import Image\n",
    "from scipy import ndimage\n",
    "from lr_utils import load_dataset\n",
    "\n",
    "%matplotlib inline"
   ]
  },
  {
   "cell_type": "markdown",
   "metadata": {},
   "source": [
    "### 2. Overview of the problem set"
   ]
  },
  {
   "cell_type": "code",
   "execution_count": 2,
   "metadata": {},
   "outputs": [],
   "source": [
    "#loading the data\n",
    "train_x, train_y, test_x, test_y, classes = load_dataset()"
   ]
  },
  {
   "cell_type": "code",
   "execution_count": 3,
   "metadata": {},
   "outputs": [
    {
     "name": "stdout",
     "output_type": "stream",
     "text": [
      "y = [1], it's a cat\n"
     ]
    },
    {
     "data": {
      "image/png": "[encoded data removed]",
      "text/plain": [
       "<matplotlib.figure.Figure at 0x7fbe022c26a0>"
      ]
     },
     "metadata": {},
     "output_type": "display_data"
    }
   ],
   "source": [
    "#Example of the dataset\n",
    "index = 25\n",
    "plt.imshow(train_x[index])\n",
    "print(\"y = \"+str(train_y[:, index])+\", it's a \"+classes[np.squeeze(train_y[:,index])].decode(\"utf-8\"))"
   ]
  },
  {
   "cell_type": "code",
   "execution_count": 4,
   "metadata": {},
   "outputs": [
    {
     "name": "stdout",
     "output_type": "stream",
     "text": [
      "Number of training examples :  209\n",
      "Number of testing examples :  50\n",
      "Height/width of each image :  64\n",
      "train_x shape :  (209, 64, 64, 3)\n",
      "train_y shape :  (1, 209)\n",
      "test_x shape :  (50, 64, 64, 3)\n",
      "test_y shape :  (1, 50)\n"
     ]
    }
   ],
   "source": [
    "#Shape \n",
    "m_train= train_x.shape[0]\n",
    "m_test = test_x.shape[0]\n",
    "num_px = train_x.shape[1]\n",
    "\n",
    "print(\"Number of training examples : \", m_train)\n",
    "print(\"Number of testing examples : \", m_test)\n",
    "print(\"Height/width of each image : \", num_px)\n",
    "print(\"train_x shape : \",train_x.shape)\n",
    "print(\"train_y shape : \", train_y.shape)\n",
    "print(\"test_x shape : \", test_x.shape)\n",
    "print(\"test_y shape : \", test_y.shape)"
   ]
  },
  {
   "cell_type": "markdown",
   "metadata": {},
   "source": [
    "- For convenience reshape the image of shape (num_px, num_px, 3) to (num_px * num_px * 3, 1), this will give flattened image."
   ]
  },
  {
   "cell_type": "code",
   "execution_count": 5,
   "metadata": {},
   "outputs": [
    {
     "name": "stdout",
     "output_type": "stream",
     "text": [
      "train_x_flatten shape :  (12288, 209)\n",
      "train_y shape :  (1, 209)\n",
      "test_x_flatten shape :  (12288, 50)\n",
      "test_y shape :  (1, 50)\n"
     ]
    }
   ],
   "source": [
    "#Reshape the training and testing images\n",
    "\n",
    "train_x_flatten = train_x.reshape(train_x.shape[0],-1).T\n",
    "test_x_flatten = test_x.reshape(test_x.shape[0],-1).T\n",
    "\n",
    "print(\"train_x_flatten shape : \",train_x_flatten.shape)\n",
    "print(\"train_y shape : \", train_y.shape)\n",
    "print(\"test_x_flatten shape : \", test_x_flatten.shape)\n",
    "print(\"test_y shape : \", test_y.shape)"
   ]
  },
  {
   "cell_type": "markdown",
   "metadata": {},
   "source": [
    "- One common preprocessing step is to center and standardize the dataset. "
   ]
  },
  {
   "cell_type": "code",
   "execution_count": 6,
   "metadata": {},
   "outputs": [],
   "source": [
    "#standardize the dataset\n",
    "train_set_x = train_x_flatten/255.\n",
    "test_set_x = test_x_flatten/255."
   ]
  },
  {
   "cell_type": "markdown",
   "metadata": {},
   "source": [
    "### 3. General architecture of learning algo and building the parts"
   ]
  },
  {
   "cell_type": "code",
   "execution_count": 7,
   "metadata": {},
   "outputs": [],
   "source": [
    "#helper function\n",
    "def sigmoid(z):\n",
    "    s = 1 / (1+np.exp(-z))\n",
    "    return s"
   ]
  },
  {
   "cell_type": "code",
   "execution_count": 8,
   "metadata": {},
   "outputs": [
    {
     "name": "stdout",
     "output_type": "stream",
     "text": [
      "sigmoid(0) =  0.5\n",
      "sigmoid(9.2) =  0.9998989708060922\n"
     ]
    }
   ],
   "source": [
    "print(\"sigmoid(0) = \" , sigmoid(0))\n",
    "print(\"sigmoid(9.2) = \", sigmoid(9.2))"
   ]
  },
  {
   "cell_type": "code",
   "execution_count": 9,
   "metadata": {},
   "outputs": [],
   "source": [
    "#initializing the parameters\n",
    "def initialize_with_zeros(dim):\n",
    "    \"\"\"\n",
    "    W: vector of zeros of dimension (dim,1)\n",
    "    b: 0\n",
    "    \"\"\"\n",
    "    w = np.zeros(shape=(dim,1))\n",
    "    b = 0\n",
    "    assert(w.shape == (dim,1))\n",
    "    assert(isinstance(b, float) or isinstance(b, int))\n",
    "    \n",
    "    return w,b"
   ]
  },
  {
   "cell_type": "code",
   "execution_count": 14,
   "metadata": {},
   "outputs": [],
   "source": [
    "#forward and backward propagation\n",
    "def propagate(w, b, X, Y):\n",
    "    \"\"\"\n",
    "    Implement the cost function and its gradient.\n",
    "    \"\"\"\n",
    "    m = X.shape[1]\n",
    "    \n",
    "    #forward propagate\n",
    "    A = sigmoid(np.dot(w.T, X) + b)\n",
    "    cost = (-1./m)*(np.sum(Y*np.log(A) + (1-Y)*np.log(1-A)))\n",
    "    \n",
    "    #backward propagate\n",
    "    dw = 1/m * np.dot(X, (A-Y).T)\n",
    "    db = 1/m * np.sum(A-Y)\n",
    "    \n",
    "    assert(dw.shape == w.shape)\n",
    "    assert(db.dtype == float)\n",
    "    cost = np.squeeze(cost)\n",
    "    assert(cost.shape == ())\n",
    "    \n",
    "    grads = {\"dw\":dw, \"db\":db}\n",
    "    \n",
    "    return grads, cost"
   ]
  },
  {
   "cell_type": "code",
   "execution_count": 19,
   "metadata": {},
   "outputs": [
    {
     "name": "stdout",
     "output_type": "stream",
     "text": [
      "dw =  [[0.99993216]\n",
      " [1.99980262]]\n",
      "db =  0.49993523062470574\n",
      "cost =  6.000064773192205\n"
     ]
    }
   ],
   "source": [
    "w,b,X,Y = np.array([[1.],[2.]]), 2. , np.array([[1.,2.],[3.,4.]]), np.array([[1,0]])\n",
    "grads, cost = propagate(w,b,X,Y)\n",
    "print(\"dw = \", grads[\"dw\"])\n",
    "print(\"db = \", grads[\"db\"])\n",
    "print(\"cost = \", cost)"
   ]
  },
  {
   "cell_type": "code",
   "execution_count": 20,
   "metadata": {},
   "outputs": [],
   "source": [
    "#optimization\n",
    "def optimize(w, b, X, Y, num_iterations, learning_rate, print_cost=False):\n",
    "    \"\"\"\n",
    "    Optimize w and b by running gradient descent\n",
    "    \"\"\"\n",
    "    costs = []\n",
    "    for i in range(num_iterations):\n",
    "        grads, cost = propagate(w,b,X,Y)\n",
    "        dw = grads[\"dw\"]\n",
    "        db = grads[\"db\"]\n",
    "        \n",
    "        w -= learning_rate*dw\n",
    "        b -= learning_rate*db\n",
    "        \n",
    "        if i%100==0:\n",
    "            costs.append(cost)\n",
    "        \n",
    "        if print_cost and i%100==0:\n",
    "            print(\"Cost after %d iterations : %f\"%(i, cost))\n",
    "            \n",
    "    params = {\"w\":w, \"b\":b}\n",
    "    grads = {\"dw\":dw, \"db\":db}\n",
    "    \n",
    "    return params, grads, costs"
   ]
  },
  {
   "cell_type": "code",
   "execution_count": 21,
   "metadata": {},
   "outputs": [
    {
     "name": "stdout",
     "output_type": "stream",
     "text": [
      "w :  [[0.1124579 ]\n",
      " [0.23106775]]\n",
      "b :  1.5593049248448891\n",
      "dw :  [[0.90158428]\n",
      " [1.76250842]]\n",
      "db :  0.4304620716786828\n"
     ]
    }
   ],
   "source": [
    "params, grads, costs = optimize(w, b, X, Y, num_iterations=100, learning_rate=0.009, print_cost=False)\n",
    "print(\"w : \", params[\"w\"])\n",
    "print(\"b : \", params[\"b\"])\n",
    "print(\"dw : \", grads[\"dw\"])\n",
    "print(\"db : \", grads[\"db\"])"
   ]
  },
  {
   "cell_type": "code",
   "execution_count": 22,
   "metadata": {},
   "outputs": [],
   "source": [
    "#Graded fuction : predict\n",
    "def predict(w, b, X):\n",
    "    m = X.shape[1]\n",
    "    y_prediciton = np.zeros((1,m))\n",
    "    w = w.reshape(X.shape[0],1)\n",
    "    \n",
    "    A = sigmoid(np.dot(w.T, X)+b)\n",
    "    \n",
    "    for i in range(A.shape[1]):\n",
    "        y_prediciton[0][i] = 1 if A[0][i]>=0.5 else 0\n",
    "        \n",
    "    assert(y_prediciton.shape == (1,m))\n",
    "    \n",
    "    return y_prediciton"
   ]
  },
  {
   "cell_type": "code",
   "execution_count": 23,
   "metadata": {},
   "outputs": [
    {
     "name": "stdout",
     "output_type": "stream",
     "text": [
      "predictions :  [[1. 1.]]\n"
     ]
    }
   ],
   "source": [
    "print(\"predictions : \", predict(w,b,X))"
   ]
  },
  {
   "cell_type": "markdown",
   "metadata": {},
   "source": [
    "### 4. Merge all function into model"
   ]
  },
  {
   "cell_type": "code",
   "execution_count": 29,
   "metadata": {},
   "outputs": [],
   "source": [
    "def model(X_train, Y_train, X_test, Y_test, num_iterations=2000, learning_rate=0.5, print_cost=False):\n",
    "    \n",
    "    #initialize the weights and biases\n",
    "    w,b = initialize_with_zeros(X_train.shape[0])\n",
    "    \n",
    "    #Gradient descent\n",
    "    parameters, grads, costs = optimize(w, b, X_train, Y_train, num_iterations, learning_rate, print_cost)\n",
    "    \n",
    "    #Retrieve parameter\n",
    "    w = parameters[\"w\"]\n",
    "    b = parameters[\"b\"]\n",
    "    \n",
    "    #Predict\n",
    "    y_prediction_test = predict(w,b,X_test)\n",
    "    y_prediction_train = predict(w,b,X_train)\n",
    "    \n",
    "    print(\"train accuracy : {}\".format(100 - np.mean(np.abs(y_prediction_train - Y_train))*100))\n",
    "    print(\"test accuracy : {}\".format(100 - np.mean(np.abs(y_prediction_test - Y_test))*100))\n",
    "    \n",
    "    d = {\"costs\": costs,\n",
    "         \"Y_prediction_test\": y_prediction_test, \n",
    "         \"Y_prediction_train\" : y_prediction_train, \n",
    "         \"w\" : w, \n",
    "         \"b\" : b,\n",
    "         \"learning_rate\" : learning_rate,\n",
    "         \"num_iterations\": num_iterations}\n",
    "    \n",
    "    return d\n",
    "    "
   ]
  },
  {
   "cell_type": "code",
   "execution_count": 31,
   "metadata": {},
   "outputs": [
    {
     "name": "stdout",
     "output_type": "stream",
     "text": [
      "Cost after 0 iterations : 0.693147\n",
      "Cost after 100 iterations : 0.584508\n",
      "Cost after 200 iterations : 0.466949\n",
      "Cost after 300 iterations : 0.376007\n",
      "Cost after 400 iterations : 0.331463\n",
      "Cost after 500 iterations : 0.303273\n",
      "Cost after 600 iterations : 0.279880\n",
      "Cost after 700 iterations : 0.260042\n",
      "Cost after 800 iterations : 0.242941\n",
      "Cost after 900 iterations : 0.228004\n",
      "Cost after 1000 iterations : 0.214820\n",
      "Cost after 1100 iterations : 0.203078\n",
      "Cost after 1200 iterations : 0.192544\n",
      "Cost after 1300 iterations : 0.183033\n",
      "Cost after 1400 iterations : 0.174399\n",
      "Cost after 1500 iterations : 0.166521\n",
      "Cost after 1600 iterations : 0.159305\n",
      "Cost after 1700 iterations : 0.152667\n",
      "Cost after 1800 iterations : 0.146542\n",
      "Cost after 1900 iterations : 0.140872\n",
      "train accuracy : 99.04306220095694\n",
      "test accuracy : 70.0\n"
     ]
    }
   ],
   "source": [
    "d = model(train_set_x, train_y, test_set_x, test_y, num_iterations=2000, learning_rate=0.005, print_cost=True)"
   ]
  },
  {
   "cell_type": "markdown",
   "metadata": {},
   "source": [
    "- We can clearly see that model is overfitting"
   ]
  },
  {
   "cell_type": "code",
   "execution_count": 39,
   "metadata": {},
   "outputs": [
    {
     "data": {
      "text/plain": [
       "1.0"
      ]
     },
     "execution_count": 39,
     "metadata": {},
     "output_type": "execute_result"
    }
   ],
   "source": [
    "d[\"Y_prediction_test\"][0,5]"
   ]
  },
  {
   "cell_type": "code",
   "execution_count": 49,
   "metadata": {},
   "outputs": [
    {
     "name": "stdout",
     "output_type": "stream",
     "text": [
      "y =  [0] , you predicted this as :  cat\n"
     ]
    },
    {
     "data": {
      "image/png": "[encoded data removed]",
      "text/plain": [
       "<matplotlib.figure.Figure at 0x7fbdf8999518>"
      ]
     },
     "metadata": {},
     "output_type": "display_data"
    }
   ],
   "source": [
    "#wrongly classified\n",
    "index = 5\n",
    "plt.imshow(test_set_x[:,index].reshape((num_px, num_px, 3)))\n",
    "print(\"y = \",test_y[:,index],\", you predicted this as : \", \n",
    "      classes[d[\"Y_prediction_test\"][0,index].astype(int)].decode(\"utf-8\"))"
   ]
  },
  {
   "cell_type": "code",
   "execution_count": 50,
   "metadata": {},
   "outputs": [
    {
     "data": {
      "image/png": "[encoded data removed]",
      "text/plain": [
       "<matplotlib.figure.Figure at 0x7fbdf8a8eda0>"
      ]
     },
     "metadata": {},
     "output_type": "display_data"
    }
   ],
   "source": [
    "#plot the learning curve\n",
    "costs = np.squeeze(d['costs'])\n",
    "plt.plot(costs)\n",
    "plt.ylabel(\"cost\")\n",
    "plt.xlabel('iterations (per hundreds)')\n",
    "plt.title(\"Learning rate = \"+str(d[\"learning_rate\"]))\n",
    "plt.show()"
   ]
  },
  {
   "cell_type": "code",
   "execution_count": 51,
   "metadata": {},
   "outputs": [
    {
     "name": "stdout",
     "output_type": "stream",
     "text": [
      "learning rate is: 0.01\n",
      "train accuracy : 99.52153110047847\n",
      "test accuracy : 68.0\n",
      "\n",
      "-------------------------------------------------------\n",
      "\n",
      "learning rate is: 0.001\n",
      "train accuracy : 88.99521531100478\n",
      "test accuracy : 64.0\n",
      "\n",
      "-------------------------------------------------------\n",
      "\n",
      "learning rate is: 0.0001\n",
      "train accuracy : 68.42105263157895\n",
      "test accuracy : 36.0\n",
      "\n",
      "-------------------------------------------------------\n",
      "\n"
     ]
    },
    {
     "data": {
      "image/png": "[encoded data removed]",
      "text/plain": [
       "<matplotlib.figure.Figure at 0x7fbdf87a1358>"
      ]
     },
     "metadata": {},
     "output_type": "display_data"
    }
   ],
   "source": [
    "learning_rates = [0.01, 0.001, 0.0001]\n",
    "models = {}\n",
    "for i in learning_rates:\n",
    "    print (\"learning rate is: \" + str(i))\n",
    "    models[str(i)] = model(train_set_x, train_y, test_set_x, test_y, \n",
    "                           num_iterations = 1500, learning_rate = i, print_cost = False)\n",
    "    print ('\\n' + \"-------------------------------------------------------\" + '\\n')\n",
    "\n",
    "for i in learning_rates:\n",
    "    plt.plot(np.squeeze(models[str(i)][\"costs\"]), label= str(models[str(i)][\"learning_rate\"]))\n",
    "\n",
    "plt.ylabel('cost')\n",
    "plt.xlabel('iterations')\n",
    "\n",
    "legend = plt.legend(loc='upper center', shadow=True)\n",
    "frame = legend.get_frame()\n",
    "frame.set_facecolor('0.90')\n",
    "plt.show()"
   ]
  },
  {
   "cell_type": "markdown",
   "metadata": {},
   "source": [
    "- learning rate too high, cost oscillates up and down.\n",
    "- currently the model is overfitting."
   ]
  },
  {
   "cell_type": "code",
   "execution_count": null,
   "metadata": {},
   "outputs": [],
   "source": []
  }
 ],
 "metadata": {
  "kernelspec": {
   "display_name": "Python 3",
   "language": "python",
   "name": "python3"
  },
  "language_info": {
   "codemirror_mode": {
    "name": "ipython",
    "version": 3
   },
   "file_extension": ".py",
   "mimetype": "text/x-python",
   "name": "python",
   "nbconvert_exporter": "python",
   "pygments_lexer": "ipython3",
   "version": "3.6.4"
  }
 },
 "nbformat": 4,
 "nbformat_minor": 2
}
